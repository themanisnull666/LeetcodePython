{
 "cells": [
  {
   "cell_type": "markdown",
   "metadata": {},
   "source": [
    "给你两个二进制字符串，返回它们的和（用二进制表示）。\n",
    "输入为 非空 字符串且只包含数字 1 和 0。"
   ]
  },
  {
   "cell_type": "code",
   "execution_count": null,
   "metadata": {},
   "outputs": [],
   "source": [
    "class Solution:\n",
    "    def addBinary(self, a: str, b: str) -> str:\n",
    "        if not a or not b: return a or b\n",
    "        \n",
    "        a, b, ans = a[::-1], b[::-1], []\n",
    "        # carry: 进位\n",
    "        i = j = carry = 0   \n",
    "        while i < len(a) or j < len(b) or carry:\n",
    "            n1 = int(a[i]) if i < len(a) else 0\n",
    "            n2 = int(b[j]) if j < len(b) else 0\n",
    "            carry, cur = divmod(n1 + n2 + carry, 2)\n",
    "            ans.append(str(cur))\n",
    "            i, j = i + 1, j + 1\n",
    "        return ''.join(ans[::-1])"
   ]
  }
 ],
 "metadata": {
  "kernelspec": {
   "display_name": "Python 3",
   "language": "python",
   "name": "python3"
  },
  "language_info": {
   "codemirror_mode": {
    "name": "ipython",
    "version": 3
   },
   "file_extension": ".py",
   "mimetype": "text/x-python",
   "name": "python",
   "nbconvert_exporter": "python",
   "pygments_lexer": "ipython3",
   "version": "3.8.3"
  }
 },
 "nbformat": 4,
 "nbformat_minor": 4
}
