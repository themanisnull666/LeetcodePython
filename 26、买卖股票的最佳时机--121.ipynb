{
 "cells": [
  {
   "cell_type": "markdown",
   "metadata": {},
   "source": [
    "给定一个数组，它的第 i 个元素是一支给定股票第 i 天的价格。\n",
    "如果你最多只允许完成一笔交易（即买入和卖出一支股票一次），设计一个算法来计算你所能获取的最大利润。\n",
    "注意：你不能在买入股票前卖出股票。"
   ]
  },
  {
   "cell_type": "markdown",
   "metadata": {},
   "source": [
    "#方法一：遍历一遍数组，计算每次 到当天为止 的最小股票价格和最大利润。"
   ]
  },
  {
   "cell_type": "code",
   "execution_count": null,
   "metadata": {},
   "outputs": [],
   "source": [
    "class Solution:\n",
    "    def maxProfit(self, prices: List[int]) -> int:\n",
    "        minprice = float('inf')\n",
    "        maxprofit = 0\n",
    "        for price in prices:\n",
    "            minprice = min(minprice, price)\n",
    "            maxprofit = max(maxprofit, price - minprice)\n",
    "        return maxprofit"
   ]
  },
  {
   "cell_type": "markdown",
   "metadata": {},
   "source": [
    "#方法二：其实方法一的思路不是凭空想象的，而是由动态规划的思想演变而来。这里介绍一维动态规划思想。\n",
    "dp[i]dp[i] 表示前 ii 天的最大利润，因为我们始终要使利润最大化，则：\n",
    "dp[i] = max(dp[i-1], prices[i]-minprice)\n",
    "dp[i]=max(dp[i−1],prices[i]−minprice)"
   ]
  },
  {
   "cell_type": "code",
   "execution_count": null,
   "metadata": {},
   "outputs": [],
   "source": [
    "class Solution:\n",
    "    def maxProfit(self, prices: List[int]) -> int:\n",
    "        n = len(prices)\n",
    "        if n == 0: return 0 # 边界条件\n",
    "        dp = [0] * n\n",
    "        minprice = prices[0] \n",
    "\n",
    "        for i in range(1, n):\n",
    "            minprice = min(minprice, prices[i])\n",
    "            dp[i] = max(dp[i - 1], prices[i] - minprice)\n",
    "\n",
    "        return dp[-1]"
   ]
  }
 ],
 "metadata": {
  "kernelspec": {
   "display_name": "Python 3",
   "language": "python",
   "name": "python3"
  },
  "language_info": {
   "codemirror_mode": {
    "name": "ipython",
    "version": 3
   },
   "file_extension": ".py",
   "mimetype": "text/x-python",
   "name": "python",
   "nbconvert_exporter": "python",
   "pygments_lexer": "ipython3",
   "version": "3.8.3"
  }
 },
 "nbformat": 4,
 "nbformat_minor": 4
}
