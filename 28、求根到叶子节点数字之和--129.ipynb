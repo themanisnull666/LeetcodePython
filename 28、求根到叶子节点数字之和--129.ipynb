{
 "cells": [
  {
   "cell_type": "markdown",
   "metadata": {},
   "source": [
    "给定一个二叉树，它的每个结点都存放一个 0-9 的数字，每条从根到叶子节点的路径都代表一个数字。\n",
    "例如，从根到叶子节点路径 1->2->3 代表数字 123。\n",
    "计算从根到叶子节点生成的所有数字之和。\n",
    "说明: 叶子节点是指没有子节点的节点。"
   ]
  },
  {
   "cell_type": "code",
   "execution_count": null,
   "metadata": {},
   "outputs": [],
   "source": [
    "class Solution:\n",
    "    def sumNumbers(self, root: TreeNode) -> int:\n",
    "\n",
    "        node = root\n",
    "        Stack = []\n",
    "        final = 0\n",
    "\n",
    "        while node or Stack:\n",
    "            # print(final)\n",
    "\n",
    "            if Stack:    # 初始判定\n",
    "                temp = Stack[-1][1]\n",
    "            else:\n",
    "                temp = 0\n",
    "\n",
    "            if node:  # 入栈\n",
    "                Stack.append([node, temp * 10 + node.val])\n",
    "\n",
    "            if node and node.left:  # 当左儿子\n",
    "                node = node.left\n",
    "            elif node and node.right:  # 当右儿子\n",
    "                node = node.right\n",
    "            else:   # 没有左右\n",
    "                if node:  # 并且是叶子节点，final累加\n",
    "                    final += Stack[-1][1]\n",
    "                Stack.pop()  # 将叶子节点弹出\n",
    "\n",
    "                while 1:   # 第6条和第7条。无限循环。\n",
    "\n",
    "                    if Stack and Stack[-1][0].left == node and Stack[-1][0].right:  # 我是左二子，爸爸还有右儿子。\n",
    "                        node = Stack[-1][0].right\n",
    "                        break\n",
    "                    elif Stack:  # 我就是爸爸的右儿子。\n",
    "                        node = Stack.pop()[0]\n",
    "                    else:  # 全查完了。收摊。\n",
    "                        node = None\n",
    "                        break\n",
    "\n",
    "        return final"
   ]
  }
 ],
 "metadata": {
  "kernelspec": {
   "display_name": "Python 3",
   "language": "python",
   "name": "python3"
  },
  "language_info": {
   "codemirror_mode": {
    "name": "ipython",
    "version": 3
   },
   "file_extension": ".py",
   "mimetype": "text/x-python",
   "name": "python",
   "nbconvert_exporter": "python",
   "pygments_lexer": "ipython3",
   "version": "3.8.3"
  }
 },
 "nbformat": 4,
 "nbformat_minor": 4
}
