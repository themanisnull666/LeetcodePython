{
 "cells": [
  {
   "cell_type": "markdown",
   "metadata": {},
   "source": [
    "给定一个整数数组 nums ，找到一个具有最大和的连续子数组（子数组最少包含一个元素），返回其最大和。"
   ]
  },
  {
   "cell_type": "markdown",
   "metadata": {},
   "source": [
    "1. 暴力求解\n",
    "基本思路就是遍历一遍，用两个变量，一个记录最大的和，一个记录当前的和。时空复杂度貌似还不错......（时间复杂度 O(n)O(n)，空间复杂度 O(l)O(l)）"
   ]
  },
  {
   "cell_type": "code",
   "execution_count": null,
   "metadata": {},
   "outputs": [],
   "source": [
    "class Solution:\n",
    "    def maxSubArray(self, nums: List[int]) -> int:\n",
    "        tmp = nums[0]\n",
    "        max_ = tmp\n",
    "        n = len(nums)\n",
    "        for i in range(1,n):\n",
    "            # 当当前序列加上此时的元素的值大于tmp的值，说明最大序列和可能出现在后续序列中，记录此时的最大值\n",
    "            if tmp + nums[i]>nums[i]:\n",
    "                max_ = max(max_, tmp+nums[i])\n",
    "                tmp = tmp + nums[i]\n",
    "            else:\n",
    "            #当tmp(当前和)小于下一个元素时，当前最长序列到此为止。以该元素为起点继续找最大子序列,\n",
    "            # 并记录此时的最大值\n",
    "                max_ = max(max_, tmp, tmp+nums[i], nums[i])\n",
    "                tmp = nums[i]\n",
    "        return max_"
   ]
  },
  {
   "cell_type": "markdown",
   "metadata": {},
   "source": [
    "2. 分治法\n",
    "分治法其他题解里将的很清楚了。其实就是它的最大子序和要么在左半边，要么在右半边，要么是穿过中间，对于左右边的序列，情况也是一样，因此可以用递归处理。\n",
    "中间部分的则可以直接计算出来，时间复杂度应该是 O(nlogn)O(nlogn)。代码如下："
   ]
  },
  {
   "cell_type": "code",
   "execution_count": null,
   "metadata": {},
   "outputs": [],
   "source": [
    "class Solution:\n",
    "    def maxSubArray(self, nums: List[int]) -> int:\n",
    "        n = len(nums)\n",
    "        #递归终止条件\n",
    "        if n == 1:\n",
    "            return nums[0]\n",
    "        else:\n",
    "            #递归计算左半边最大子序和\n",
    "            max_left = self.maxSubArray(nums[0:len(nums) // 2])\n",
    "            #递归计算右半边最大子序和\n",
    "            max_right = self.maxSubArray(nums[len(nums) // 2:len(nums)])\n",
    "        \n",
    "        #计算中间的最大子序和，从右到左计算左边的最大子序和，从左到右计算右边的最大子序和，再相加\n",
    "        max_l = nums[len(nums) // 2 - 1]\n",
    "        tmp = 0\n",
    "        for i in range(len(nums) // 2 - 1, -1, -1):\n",
    "            tmp += nums[i]\n",
    "            max_l = max(tmp, max_l)\n",
    "        max_r = nums[len(nums) // 2]\n",
    "        tmp = 0\n",
    "        for i in range(len(nums) // 2, len(nums)):\n",
    "            tmp += nums[i]\n",
    "            max_r = max(tmp, max_r)\n",
    "        #返回三个中的最大值\n",
    "        return max(max_right,max_left,max_l+max_r)"
   ]
  }
 ],
 "metadata": {
  "kernelspec": {
   "display_name": "Python 3",
   "language": "python",
   "name": "python3"
  },
  "language_info": {
   "codemirror_mode": {
    "name": "ipython",
    "version": 3
   },
   "file_extension": ".py",
   "mimetype": "text/x-python",
   "name": "python",
   "nbconvert_exporter": "python",
   "pygments_lexer": "ipython3",
   "version": "3.8.3"
  }
 },
 "nbformat": 4,
 "nbformat_minor": 4
}
