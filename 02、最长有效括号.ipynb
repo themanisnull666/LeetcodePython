{
 "cells": [
  {
   "cell_type": "markdown",
   "metadata": {},
   "source": [
    "解题思路\n",
    "这里考虑使用栈来解决，思路类似于判定括号对是否匹配。\n",
    "\n",
    "从前往后遍历字符串\n",
    "一、入栈条件为1.栈为空 2.当前字符是'(' 3.栈顶符号位')'，因为三种条件都没办法消去成对的括号。\n",
    "二、计算结果：符合消去成对括号时，拿当前下标减去栈顶下标即可"
   ]
  },
  {
   "cell_type": "code",
   "execution_count": null,
   "metadata": {},
   "outputs": [],
   "source": [
    "class Solution:\n",
    "    def longestValidParentheses(self, s: str) -> int:\n",
    "        if not s: return 0\n",
    "\n",
    "        stack = []\n",
    "        ans = 0\n",
    "        for i in range(len(s)):\n",
    "            # 入栈条件\n",
    "            if not stack or s[i] == '(' or s[stack[-1]] == ')':\n",
    "                stack.append(i)     # 下标入栈\n",
    "            else:\n",
    "                # 计算结果\n",
    "                stack.pop()\n",
    "                ans = max(ans, i - (stack[-1] if stack else -1))\n",
    "        return ans"
   ]
  }
 ],
 "metadata": {
  "kernelspec": {
   "display_name": "Python 3",
   "language": "python",
   "name": "python3"
  },
  "language_info": {
   "codemirror_mode": {
    "name": "ipython",
    "version": 3
   },
   "file_extension": ".py",
   "mimetype": "text/x-python",
   "name": "python",
   "nbconvert_exporter": "python",
   "pygments_lexer": "ipython3",
   "version": "3.8.3"
  }
 },
 "nbformat": 4,
 "nbformat_minor": 4
}
