{
 "cells": [
  {
   "cell_type": "markdown",
   "metadata": {},
   "source": [
    "给定一个二叉树，找出其最小深度。\n",
    "最小深度是从根节点到最近叶子节点的最短路径上的节点数量。\n",
    "说明：叶子节点是指没有子节点的节点。"
   ]
  },
  {
   "cell_type": "markdown",
   "metadata": {},
   "source": [
    "解题思路\n",
    "DFS： 递归，处理左右子树的各种情况（if-else）\n",
    "BFS： 按层遍历，寻找第一个叶子结点"
   ]
  },
  {
   "cell_type": "code",
   "execution_count": null,
   "metadata": {},
   "outputs": [],
   "source": [
    "class Solution:\n",
    "    def minDepth(self, root: TreeNode) -> int:\n",
    "        if not root: return 0\n",
    "\n",
    "        ans = 0\n",
    "        if not root.left and not root.right: \t# 叶子节点\n",
    "            ans = 1\n",
    "        elif root.left and root.right:  # 左右子树均不为空\n",
    "            ans = min(self.minDepth(root.left), self.minDepth(root.right)) + 1\n",
    "        elif root.left:\t\t# 左子树不为空 & 右子树为空\n",
    "            ans = self.minDepth(root.left) + 1\n",
    "        else:\t\t\t# 左子树为空 & 右子树不为空\n",
    "            ans = self.minDepth(root.right) + 1\n",
    "        return ans"
   ]
  }
 ],
 "metadata": {
  "kernelspec": {
   "display_name": "Python 3",
   "language": "python",
   "name": "python3"
  },
  "language_info": {
   "codemirror_mode": {
    "name": "ipython",
    "version": 3
   },
   "file_extension": ".py",
   "mimetype": "text/x-python",
   "name": "python",
   "nbconvert_exporter": "python",
   "pygments_lexer": "ipython3",
   "version": "3.8.3"
  }
 },
 "nbformat": 4,
 "nbformat_minor": 4
}
