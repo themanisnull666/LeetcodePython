{
 "cells": [
  {
   "cell_type": "markdown",
   "metadata": {},
   "source": [
    "给定一个仅包含大小写字母和空格 ' ' 的字符串 s，返回其最后一个单词的长度。如果字符串从左向右滚动显示，那么最后一个单词就是最后出现的单词。\n",
    "如果不存在最后一个单词，请返回 0 。\n",
    "说明：一个单词是指仅由字母组成、不包含任何空格字符的 最大子字符串。"
   ]
  },
  {
   "cell_type": "markdown",
   "metadata": {},
   "source": [
    "思路：\n",
    "这道题目非常简单，首先如果啥也没有，输出0，去除字符串结尾后的多余空格，避免影响前面字符串长度判断，\n",
    "这里我使用的是python3内置的strip函数，然后字符串长度为1，就输出1，只有一个单词，有多个单词时，可以使用find函数进行，通过index值索引，\n",
    "通过空格进行比较，不断往后查找，直到查到空格后没有单词的时候，那个单词就是最后一个单词。\n",
    "输出长度即可，也可以用split进行分割，倒序输出即为最后一个。"
   ]
  },
  {
   "cell_type": "code",
   "execution_count": null,
   "metadata": {},
   "outputs": [],
   "source": [
    "class Solution:\n",
    "    def lengthOfLastWord(self, s: str) -> int:\n",
    "        if not s:\n",
    "            return 0\n",
    "        s = s.strip(\" \")\n",
    "        if len(s) == 1:\n",
    "            return 1\n",
    "        else:\n",
    "            s_new = s.split(\" \")\n",
    "            return (len(s_new[-1]))"
   ]
  }
 ],
 "metadata": {
  "kernelspec": {
   "display_name": "Python 3",
   "language": "python",
   "name": "python3"
  },
  "language_info": {
   "codemirror_mode": {
    "name": "ipython",
    "version": 3
   },
   "file_extension": ".py",
   "mimetype": "text/x-python",
   "name": "python",
   "nbconvert_exporter": "python",
   "pygments_lexer": "ipython3",
   "version": "3.8.3"
  }
 },
 "nbformat": 4,
 "nbformat_minor": 4
}
