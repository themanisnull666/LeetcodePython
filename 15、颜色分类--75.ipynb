{
 "cells": [
  {
   "cell_type": "markdown",
   "metadata": {},
   "source": [
    "给定一个包含红色、白色和蓝色，一共 n 个元素的数组，原地对它们进行排序，使得相同颜色的元素相邻，并按照红色、白色、蓝色顺序排列。\n",
    "此题中，我们使用整数 0、 1 和 2 分别表示红色、白色和蓝色。\n",
    "\n",
    "进阶：\n",
    "你可以不使用代码库中的排序函数来解决这道题吗？\n",
    "你能想出一个仅使用常数空间的一趟扫描算法吗？"
   ]
  },
  {
   "cell_type": "markdown",
   "metadata": {},
   "source": [
    "这题可以使用双指针方法，实际上原地修改、O(n)正是双指针的特性。这题虽然用了三个指针，\n",
    "但双指针方法的精髓不在于用了几个指针，而是使用一个当前指针，若干个区域指针，\n",
    "原地的在数组上进行区域的划分，划分成处理后的区域，不需要的区域，未知的区域三个概念上的区域。"
   ]
  },
  {
   "cell_type": "code",
   "execution_count": null,
   "metadata": {},
   "outputs": [],
   "source": [
    "class Solution:\n",
    "    def sortColors(self, nums: List[int]) -> None:\n",
    "        \"\"\"\n",
    "        Do not return anything, modify nums in-place instead.\n",
    "        \"\"\"\n",
    "        p0, curr, p2 = 0, 0, len(nums) - 1\n",
    "        while curr <= p2:\n",
    "            if nums[curr] == 0: # 为0，做出决策\n",
    "                nums[p0], nums[curr] = nums[curr], nums[p0]\n",
    "                p0 += 1\n",
    "                curr += 1\n",
    "            elif nums[curr] == 2:   # 为2，做出决策\n",
    "                nums[p2], nums[curr] = nums[curr], nums[p2]\n",
    "                p2 -= 1\n",
    "            else:                   # 为1，做出决策\n",
    "                curr += 1"
   ]
  }
 ],
 "metadata": {
  "kernelspec": {
   "display_name": "Python 3",
   "language": "python",
   "name": "python3"
  },
  "language_info": {
   "codemirror_mode": {
    "name": "ipython",
    "version": 3
   },
   "file_extension": ".py",
   "mimetype": "text/x-python",
   "name": "python",
   "nbconvert_exporter": "python",
   "pygments_lexer": "ipython3",
   "version": "3.8.3"
  }
 },
 "nbformat": 4,
 "nbformat_minor": 4
}
