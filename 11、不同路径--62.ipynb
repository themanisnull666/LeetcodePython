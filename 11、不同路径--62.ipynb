{
 "cells": [
  {
   "cell_type": "markdown",
   "metadata": {},
   "source": [
    "一个机器人位于一个 m x n 网格的左上角 （起始点在下图中标记为 “Start” ）。\n",
    "机器人每次只能向下或者向右移动一步。机器人试图达到网格的右下角（在下图中标记为 “Finish” ）。\n",
    "问总共有多少条不同的路径？"
   ]
  },
  {
   "cell_type": "markdown",
   "metadata": {},
   "source": [
    "先审题，题目给定一个 m \\times nm×n 的网格，左上角放置一个机器人，右下角为终点，问机器人到达终点的路径有多少条？\n",
    "\n",
    "其中机器人的移动规则为：\n",
    "\n",
    "每次只能向下或者向右移动一步。\n",
    "现在假设 f(m, n)f(m,n) 表示从左上角到达终点的总路径数。由于机器人每次只能向下或者向右移动，那么要到达右下角只能是从上方或者左边的格子移动过来。也就是此时递归求解释为：\n",
    "\n",
    "f(m, n) = f(m-1, n) + f(m, n-1)\n",
    "f(m,n)=f(m−1,n)+f(m,n−1)\n",
    "这里加上递归终止条件，就能够求得最终的结果。但是这种自底向上的递归中间会有大量重复的计算，这里我们可以将其改为自顶向下的递推。"
   ]
  },
  {
   "cell_type": "code",
   "execution_count": null,
   "metadata": {},
   "outputs": [],
   "source": [
    "class Solution:\n",
    "    def uniquePaths(self, m: int, n: int) -> int:\n",
    "        dp = [[0] * n for _ in range(m)]\n",
    "\n",
    "        # 初始化\n",
    "        for i in range(m):\n",
    "            dp[i][0] = 1\n",
    "        \n",
    "        for j in range(n):\n",
    "            dp[0][j] = 1\n",
    "\n",
    "        # 根据转移方程进行递推\n",
    "        for i in range(1, m):\n",
    "            for j in range(1, n):\n",
    "                dp[i][j] = dp[i-1][j] + dp[i][j-1]\n",
    "        \n",
    "        return dp[m-1][n-1]\n",
    "        # return dp[-1][-1]"
   ]
  }
 ],
 "metadata": {
  "kernelspec": {
   "display_name": "Python 3",
   "language": "python",
   "name": "python3"
  },
  "language_info": {
   "codemirror_mode": {
    "name": "ipython",
    "version": 3
   },
   "file_extension": ".py",
   "mimetype": "text/x-python",
   "name": "python",
   "nbconvert_exporter": "python",
   "pygments_lexer": "ipython3",
   "version": "3.8.3"
  }
 },
 "nbformat": 4,
 "nbformat_minor": 4
}
