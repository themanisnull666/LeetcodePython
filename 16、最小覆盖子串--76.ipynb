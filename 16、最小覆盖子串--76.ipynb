{
 "cells": [
  {
   "cell_type": "markdown",
   "metadata": {},
   "source": [
    "给你一个字符串 s 、一个字符串 t 。返回 s 中涵盖 t 所有字符的最小子串。如果 s 中不存在涵盖 t 所有字符的子串，则返回空字符串 \"\" 。\n",
    "注意：如果 s 中存在这样的子串，我们保证它是唯一的答案。"
   ]
  },
  {
   "cell_type": "markdown",
   "metadata": {},
   "source": [
    "用i,j表示滑动窗口的左边界和右边界，通过改变i,j来扩展和收缩滑动窗口，可以想象成一个窗口在字符串上游走，\n",
    "当这个窗口包含的元素满足条件，即包含字符串T的所有元素，记录下这个滑动窗口的长度j-i+1，这些长度中的最小值就是要求的结果。"
   ]
  },
  {
   "cell_type": "code",
   "execution_count": null,
   "metadata": {},
   "outputs": [],
   "source": [
    "    def minWindow(self, s: str, t: str) -> str:\n",
    "        need=collections.defaultdict(int)\n",
    "        for c in t:\n",
    "            need[c]+=1\n",
    "        needCnt=len(t)\n",
    "        i=0\n",
    "        res=(0,float('inf'))\n",
    "        for j,c in enumerate(s):\n",
    "            if need[c]>0:\n",
    "                needCnt-=1\n",
    "            need[c]-=1\n",
    "            if needCnt==0:       #步骤一：滑动窗口包含了所有T元素\n",
    "                while True:      #步骤二：增加i，排除多余元素\n",
    "                    c=s[i] \n",
    "                    if need[c]==0:\n",
    "                        break\n",
    "                    need[c]+=1\n",
    "                    i+=1\n",
    "                if j-i<res[1]-res[0]:   #记录结果\n",
    "                    res=(i,j)\n",
    "                need[s[i]]+=1  #步骤三：i增加一个位置，寻找新的满足条件滑动窗口\n",
    "                needCnt+=1\n",
    "                i+=1\n",
    "        return '' if res[1]>len(s) else s[res[0]:res[1]+1]    #如果res始终没被更新过，代表无满足条件的结果"
   ]
  }
 ],
 "metadata": {
  "kernelspec": {
   "display_name": "Python 3",
   "language": "python",
   "name": "python3"
  },
  "language_info": {
   "codemirror_mode": {
    "name": "ipython",
    "version": 3
   },
   "file_extension": ".py",
   "mimetype": "text/x-python",
   "name": "python",
   "nbconvert_exporter": "python",
   "pygments_lexer": "ipython3",
   "version": "3.8.3"
  }
 },
 "nbformat": 4,
 "nbformat_minor": 4
}
