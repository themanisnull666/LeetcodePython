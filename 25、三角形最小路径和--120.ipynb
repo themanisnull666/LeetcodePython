{
 "cells": [
  {
   "cell_type": "markdown",
   "metadata": {},
   "source": [
    "给定一个三角形，找出自顶向下的最小路径和。每一步只能移动到下一行中相邻的结点上。\n",
    "相邻的结点 在这里指的是 下标 与 上一层结点下标 相同或者等于 上一层结点下标 + 1 的两个结点。"
   ]
  },
  {
   "cell_type": "markdown",
   "metadata": {},
   "source": [
    "主要思想是，从顶层往底，依次遍历选择时，无法得知当前选择结果是否为最优，局部最优并不等价于全局最优，\n",
    "因而反向思考，由底部向上遍历，\n",
    "每次选择下一层的可选数较小的一个，向上累加，金字塔顶端即为最小的路径和。"
   ]
  },
  {
   "cell_type": "code",
   "execution_count": null,
   "metadata": {},
   "outputs": [],
   "source": [
    "class Solution:\n",
    "    def minimumTotal(self, triangle: List[List[int]]) -> int:\n",
    "        def helper(depth, pos, t):\n",
    "            if depth == len(t) - 1:\n",
    "                return t[depth][pos]\n",
    "            left = helper(depth + 1, pos, t)\n",
    "            right = helper(depth + 1, pos+1, t)\n",
    "\n",
    "            return min(left, right) + t[depth][pos]\n",
    "        if not triangle or len(triangle) < 1 or len(triangle[0]) < 1:\n",
    "            return 0\n",
    "        res = helper(0, 0, triangle)\n",
    "        return res"
   ]
  }
 ],
 "metadata": {
  "kernelspec": {
   "display_name": "Python 3",
   "language": "python",
   "name": "python3"
  },
  "language_info": {
   "codemirror_mode": {
    "name": "ipython",
    "version": 3
   },
   "file_extension": ".py",
   "mimetype": "text/x-python",
   "name": "python",
   "nbconvert_exporter": "python",
   "pygments_lexer": "ipython3",
   "version": "3.8.3"
  }
 },
 "nbformat": 4,
 "nbformat_minor": 4
}
