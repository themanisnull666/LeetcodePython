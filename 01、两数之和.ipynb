{
 "cells": [
  {
   "cell_type": "markdown",
   "metadata": {},
   "source": [
    "#1、暴力法\n",
    "解题关键主要是想找到 num2 = target - num1，是否也在 list 中，那么就需要运用以下两个方法：\n",
    "\n",
    "num2 in nums，返回 True 说明存在\n",
    "nums.index(num2)，查找 num2 的索引"
   ]
  },
  {
   "cell_type": "code",
   "execution_count": null,
   "metadata": {},
   "outputs": [],
   "source": [
    "def twoSum(nums, target):\n",
    "    lens = len(nums)\n",
    "    j=-1\n",
    "    for i in range(lens):\n",
    "        if (target - nums[i]) in nums:\n",
    "            if (nums.count(target - nums[i]) == 1)&(target - nums[i] == nums[i]):#如果num2=num1,且nums中只出现了一次，说明找到是num1本身。\n",
    "                continue\n",
    "            else:\n",
    "                j = nums.index(target - nums[i],i+1) #index(x,i+1)是从num1后的序列后找num2                \n",
    "                break\n",
    "    if j>0:\n",
    "        return [i,j]\n",
    "    else:\n",
    "        return []"
   ]
  },
  {
   "cell_type": "markdown",
   "metadata": {},
   "source": [
    "#2、用字典模拟哈希\n",
    "通过哈希来求解，这里通过字典来模拟哈希查询的过程。\n",
    "个人理解这种办法相较于方法一其实就是字典记录了 num1 和 num2 的值和位置，而省了再查找 num2 索引的步骤。"
   ]
  },
  {
   "cell_type": "code",
   "execution_count": null,
   "metadata": {},
   "outputs": [],
   "source": [
    "def twoSum(nums, target):\n",
    "    hashmap={}\n",
    "    for ind,num in enumerate(nums):\n",
    "        hashmap[num] = ind\n",
    "    for i,num in enumerate(nums):\n",
    "        j = hashmap.get(target - num)\n",
    "        if j is not None and i!=j:\n",
    "            return [i,j]"
   ]
  }
 ],
 "metadata": {
  "kernelspec": {
   "display_name": "Python 3",
   "language": "python",
   "name": "python3"
  },
  "language_info": {
   "codemirror_mode": {
    "name": "ipython",
    "version": 3
   },
   "file_extension": ".py",
   "mimetype": "text/x-python",
   "name": "python",
   "nbconvert_exporter": "python",
   "pygments_lexer": "ipython3",
   "version": "3.8.3"
  }
 },
 "nbformat": 4,
 "nbformat_minor": 4
}
