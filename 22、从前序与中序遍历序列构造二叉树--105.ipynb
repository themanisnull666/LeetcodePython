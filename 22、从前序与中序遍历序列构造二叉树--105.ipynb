{
 "cells": [
  {
   "cell_type": "markdown",
   "metadata": {},
   "source": [
    "根据一棵树的前序遍历与中序遍历构造二叉树。\n",
    "\n",
    "注意:\n",
    "你可以假设树中没有重复的元素。\n",
    "例如，给出\n",
    "前序遍历 preorder = [3,9,20,15,7]\n",
    "中序遍历 inorder = [9,3,15,20,7]\n",
    "返回如下的二叉树：\n",
    "\n",
    "    3\n",
    "   / \\\n",
    "  9  20\n",
    "    /  \\\n",
    "   15   7"
   ]
  },
  {
   "cell_type": "markdown",
   "metadata": {},
   "source": [
    "通过先序遍历我们可以找到root，根据root我们可以再中序找到当前root对应的左右子树，再递归对当前root的左右子树进行构造(递归的时候别想多，\n",
    "把看到的一堆想成一个整体就好,想好递归终止条件，剩下的让程序去做吧，不然容易把自己陷入死循环弄得一头雾水)。\n",
    "本题也是一样，知道inorder中，当前root的左侧的所有点就是其左子树，root的右侧的所有点就是当前root的右子树，\n",
    "就把这左右两堆数字想成当前root的左右2个节点就好，然后扔到函数里进行下一层的递归。"
   ]
  },
  {
   "cell_type": "code",
   "execution_count": null,
   "metadata": {},
   "outputs": [],
   "source": [
    "class Solution:\n",
    "    def buildTree(self, preorder: List[int], inorder: List[int]) -> TreeNode:\n",
    "        if not preorder or not inorder:  # 递归终止条件\n",
    "            return\n",
    "        root = TreeNode(preorder[0])  # 先序为“根左右”，所以根据preorder可以确定root\n",
    "        idx = inorder.index(preorder[0])  # 中序为“左根右”，根据root可以划分出左右子树\n",
    "        root.left = self.buildTree(preorder[1:1 + idx], inorder[:idx])\n",
    "        root.right = self.buildTree(preorder[1 + idx:], inorder[idx + 1:])\n",
    "        return root"
   ]
  }
 ],
 "metadata": {
  "kernelspec": {
   "display_name": "Python 3",
   "language": "python",
   "name": "python3"
  },
  "language_info": {
   "codemirror_mode": {
    "name": "ipython",
    "version": 3
   },
   "file_extension": ".py",
   "mimetype": "text/x-python",
   "name": "python",
   "nbconvert_exporter": "python",
   "pygments_lexer": "ipython3",
   "version": "3.8.3"
  }
 },
 "nbformat": 4,
 "nbformat_minor": 4
}
