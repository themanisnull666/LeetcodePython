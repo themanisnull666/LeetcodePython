{
 "cells": [
  {
   "cell_type": "markdown",
   "metadata": {},
   "source": [
    "实现 strStr() 函数。\n",
    "给定一个 haystack 字符串和一个 needle 字符串，在 haystack 字符串中找出 needle 字符串出现的第一个位置 (从0开始)。如果不存在，则返回  -1。"
   ]
  },
  {
   "cell_type": "code",
   "execution_count": null,
   "metadata": {},
   "outputs": [],
   "source": [
    "class Solution:\n",
    "    def strStr(self, haystack: str, needle: str) -> int:\n",
    "    \n",
    "        # Func: 计算偏移表\n",
    "        def calShiftMat(st):\n",
    "            dic = {}\n",
    "            for i in range(len(st)-1,-1,-1):\n",
    "                if not dic.get(st[i]):\n",
    "                    dic[st[i]] = len(st)-i\n",
    "            dic[\"ot\"] = len(st)+1\n",
    "            return dic\n",
    "        \n",
    "        # 其他情况判断\n",
    "        if len(needle) > len(haystack):return -1\n",
    "        if needle==\"\": return 0\n",
    "       \n",
    "        # 偏移表预处理    \n",
    "        dic = calShiftMat(needle)\n",
    "        idx = 0\n",
    "    \n",
    "        while idx+len(needle) <= len(haystack):\n",
    "            \n",
    "            # 待匹配字符串\n",
    "            str_cut = haystack[idx:idx+len(needle)]\n",
    "            \n",
    "            # 判断是否匹配\n",
    "            if str_cut==needle:\n",
    "                return idx\n",
    "            else:\n",
    "                # 边界处理\n",
    "                if idx+len(needle) >= len(haystack):\n",
    "                    return -1\n",
    "                # 不匹配情况下，根据下一个字符的偏移，移动idx\n",
    "                cur_c = haystack[idx+len(needle)]\n",
    "                if dic.get(cur_c):\n",
    "                    idx += dic[cur_c]\n",
    "                else:\n",
    "                    idx += dic[\"ot\"]\n",
    "            \n",
    "        \n",
    "        return -1 if idx+len(needle) >= len(haystack) else idx"
   ]
  }
 ],
 "metadata": {
  "kernelspec": {
   "display_name": "Python 3",
   "language": "python",
   "name": "python3"
  },
  "language_info": {
   "codemirror_mode": {
    "name": "ipython",
    "version": 3
   },
   "file_extension": ".py",
   "mimetype": "text/x-python",
   "name": "python",
   "nbconvert_exporter": "python",
   "pygments_lexer": "ipython3",
   "version": "3.8.3"
  }
 },
 "nbformat": 4,
 "nbformat_minor": 4
}
