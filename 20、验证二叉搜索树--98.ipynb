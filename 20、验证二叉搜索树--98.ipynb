{
 "cells": [
  {
   "cell_type": "markdown",
   "metadata": {},
   "source": [
    "给定一个二叉树，判断其是否是一个有效的二叉搜索树。\n",
    "假设一个二叉搜索树具有如下特征：\n",
    "节点的左子树只包含小于当前节点的数。\n",
    "节点的右子树只包含大于当前节点的数。\n",
    "所有左子树和右子树自身必须也是二叉搜索树。"
   ]
  },
  {
   "cell_type": "markdown",
   "metadata": {},
   "source": [
    "按着二叉搜索树的性质，左边的小于自己的父节点， 右边的大于父节点， \n",
    "我们就会发现如果用中序遍历， 其实这个二叉树就是一个递增序列， 将遍历结果存储在列表里然后进行查找比较即可"
   ]
  },
  {
   "cell_type": "code",
   "execution_count": null,
   "metadata": {},
   "outputs": [],
   "source": [
    "class Solution(object):\n",
    "    def isValidBST(self, root):\n",
    "\n",
    "        if root == None:\n",
    "            return True\n",
    "        nums = []\n",
    "        nums = self.Search(root, nums)\n",
    "        if len(nums) <= 1:\n",
    "            return True\n",
    "        else:\n",
    "            for i in range(1, len(nums)):\n",
    "                if nums[i] <= nums[i - 1]:\n",
    "                    return False\n",
    "            return True\n",
    "\n",
    "    def Search(self, root, nums):\n",
    "        if root == None:\n",
    "            return None\n",
    "        self.Search(root.left, nums)\n",
    "        nums.append(root.val)\n",
    "        self.Search(root.right, nums)\n",
    "        return nums"
   ]
  }
 ],
 "metadata": {
  "kernelspec": {
   "display_name": "Python 3",
   "language": "python",
   "name": "python3"
  },
  "language_info": {
   "codemirror_mode": {
    "name": "ipython",
    "version": 3
   },
   "file_extension": ".py",
   "mimetype": "text/x-python",
   "name": "python",
   "nbconvert_exporter": "python",
   "pygments_lexer": "ipython3",
   "version": "3.8.3"
  }
 },
 "nbformat": 4,
 "nbformat_minor": 4
}
