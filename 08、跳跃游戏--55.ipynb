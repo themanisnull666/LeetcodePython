{
 "cells": [
  {
   "cell_type": "markdown",
   "metadata": {},
   "source": [
    "给定一个非负整数数组，你最初位于数组的第一个位置。\n",
    "数组中的每个元素代表你在该位置可以跳跃的最大长度。\n",
    "判断你是否能够到达最后一个位置。"
   ]
  },
  {
   "cell_type": "markdown",
   "metadata": {},
   "source": [
    "思路：\n",
    "我们设当前遍历的位置为pos，然后从第一个位置开始访问，即pos=0；\n",
    "先让其直接尝试跳到最远的位置，即pos + nums[i]，在这里，我们判断是否最远位置超过了最后一个位置;\n",
    "当前位置pos根据是否可以进行跳跃，分情况处理：\n",
    "(1). 如果当前位置不能进行跳跃，即nums[pos] = 0，此时我们才需要从后往前遍历，即从位置pos-1到0进行遍历(将其设为l):\n",
    "第一种情况：找到l+nums[l] > pos，即前面有某个位置可以到达更远的位置，我们将其进行更新，即pos = l + nums[l]，返回步骤2；\n",
    "第二种情况：没有找到l+nums[l] > pos，那么最远只能到达位置i，证明无法到达最后一个位置。\n",
    "(2). 如果当前位置可以跳跃，我们继续往最远的位置进行跳跃即可，即pos = pos + nums[pos]"
   ]
  },
  {
   "cell_type": "code",
   "execution_count": null,
   "metadata": {},
   "outputs": [],
   "source": [
    "class Solution:\n",
    "    def canJump(self, nums: List[int]) -> bool:\n",
    "        n = len(nums)\n",
    "        if n == 1:\n",
    "            return True\n",
    "\n",
    "        pos = 0\n",
    "\n",
    "        while True:\n",
    "            if pos + nums[pos] >= n - 1:\n",
    "                return True\n",
    "\n",
    "            if nums[pos] == 0:\n",
    "                flag = True\n",
    "                for i in range(pos-1, -1, -1):\n",
    "                    if nums[i] + i >= n - 1:\n",
    "                        return True\n",
    "                    if nums[i] + i > pos:\n",
    "                        pos = nums[i] + i\n",
    "                        flag = False\n",
    "                        break\n",
    "                if flag:\n",
    "                    return False\n",
    "                continue\n",
    "\n",
    "            pos += nums[pos]\n",
    "\n",
    "        return False"
   ]
  }
 ],
 "metadata": {
  "kernelspec": {
   "display_name": "Python 3",
   "language": "python",
   "name": "python3"
  },
  "language_info": {
   "codemirror_mode": {
    "name": "ipython",
    "version": 3
   },
   "file_extension": ".py",
   "mimetype": "text/x-python",
   "name": "python",
   "nbconvert_exporter": "python",
   "pygments_lexer": "ipython3",
   "version": "3.8.3"
  }
 },
 "nbformat": 4,
 "nbformat_minor": 4
}
