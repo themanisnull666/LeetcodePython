{
 "cells": [
  {
   "cell_type": "markdown",
   "metadata": {},
   "source": [
    "给定一个字符串 s，将 s 分割成一些子串，使每个子串都是回文串。\n",
    "返回符合要求的最少分割次数。"
   ]
  },
  {
   "cell_type": "markdown",
   "metadata": {},
   "source": [
    "#思路一: 自顶向下"
   ]
  },
  {
   "cell_type": "code",
   "execution_count": null,
   "metadata": {},
   "outputs": [],
   "source": [
    "import functools\n",
    "class Solution:\n",
    "    @functools.lru_cache(None)\n",
    "    def minCut(self, s: str) -> int:\n",
    "        if s == s[::-1]:\n",
    "            return 0\n",
    "        ans = float(\"inf\")\n",
    "        for i in range(1, len(s) + 1):\n",
    "            if s[:i] == s[:i][::-1]:\n",
    "                ans = min(self.minCut(s[i:]) + 1, ans)\n",
    "        return ans"
   ]
  },
  {
   "cell_type": "markdown",
   "metadata": {},
   "source": [
    "#思路二: 自底向上\n",
    "可以通过5. 最长回文子串(题解链接)和131. 分割回文串看一下关于dp的写法\n",
    "再用数组min_s记录到字符串到i位置需要分割次数."
   ]
  },
  {
   "cell_type": "code",
   "execution_count": null,
   "metadata": {},
   "outputs": [],
   "source": [
    "class Solution:\n",
    "    def minCut(self, s: str) -> int:\n",
    "        min_s = list(range(len(s)))\n",
    "        n = len(s)\n",
    "        dp = [[False] * n for _ in range(n)]\n",
    "        for i in range(n):\n",
    "            for j in range(i+1):\n",
    "                if s[i] == s[j] and (i - j < 2 or dp[j + 1][i - 1]):\n",
    "                    dp[j][i] = True\n",
    "                    # 说明不用分割\n",
    "                    if j == 0:\n",
    "                        min_s[i] = 0\n",
    "                    else:\n",
    "                        min_s[i] = min(min_s[i], min_s[j - 1] + 1)\n",
    "        return min_s[-1]"
   ]
  }
 ],
 "metadata": {
  "kernelspec": {
   "display_name": "Python 3",
   "language": "python",
   "name": "python3"
  },
  "language_info": {
   "codemirror_mode": {
    "name": "ipython",
    "version": 3
   },
   "file_extension": ".py",
   "mimetype": "text/x-python",
   "name": "python",
   "nbconvert_exporter": "python",
   "pygments_lexer": "ipython3",
   "version": "3.8.3"
  }
 },
 "nbformat": 4,
 "nbformat_minor": 4
}
