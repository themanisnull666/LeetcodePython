{
 "cells": [
  {
   "cell_type": "markdown",
   "metadata": {},
   "source": [
    "给出集合 [1,2,3,...,n]，其所有元素共有 n! 种排列。\n",
    "按大小顺序列出所有排列情况，并一一标记，当 n = 3 时, 所有排列如下：\n",
    "\n",
    "\"123\"\n",
    "\"132\"\n",
    "\"213\"\n",
    "\"231\"\n",
    "\"312\"\n",
    "\"321\"\n",
    "给定 n 和 k，返回第 k 个排列。"
   ]
  },
  {
   "cell_type": "markdown",
   "metadata": {},
   "source": [
    "暴力法\n",
    "每一次都获取下一个排列"
   ]
  },
  {
   "cell_type": "code",
   "execution_count": null,
   "metadata": {},
   "outputs": [],
   "source": [
    "class Solution:\n",
    "    def getPermutation(self, n: int, k: int) -> str:\n",
    "        nums = [i for i in range(1, n+1)]\n",
    "        for i in range(k-1):\n",
    "            self.permute(nums)\n",
    "        return \"\".join([str(i) for i in nums])\n",
    "    \n",
    "    def permute(self, nums: list) -> None:\n",
    "        run = False\n",
    "        for i in range(len(nums)-1, 0, -1):\n",
    "            if nums[i] > nums[i-1]:\n",
    "                for k in range(len(nums)-1, 0, -1):\n",
    "                    if nums[k]>nums[i-1]:\n",
    "                        nums[k], nums[i-1] = nums[i-1], nums[k]\n",
    "                        nums[i:] = nums[i:][::-1]\n",
    "                        return"
   ]
  }
 ],
 "metadata": {
  "kernelspec": {
   "display_name": "Python 3",
   "language": "python",
   "name": "python3"
  },
  "language_info": {
   "codemirror_mode": {
    "name": "ipython",
    "version": 3
   },
   "file_extension": ".py",
   "mimetype": "text/x-python",
   "name": "python",
   "nbconvert_exporter": "python",
   "pygments_lexer": "ipython3",
   "version": "3.8.3"
  }
 },
 "nbformat": 4,
 "nbformat_minor": 4
}
