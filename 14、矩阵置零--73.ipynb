{
 "cells": [
  {
   "cell_type": "markdown",
   "metadata": {},
   "source": [
    "给定一个 m x n 的矩阵，如果一个元素为 0，则将其所在行和列的所有元素都设为 0。请使用原地算法。"
   ]
  },
  {
   "cell_type": "markdown",
   "metadata": {},
   "source": [
    "思路一: 用 O(m+n)O(m+n)额外空间\n",
    "两遍扫matrix,第一遍用集合记录哪些行,哪些列有0;第二遍置0"
   ]
  },
  {
   "cell_type": "code",
   "execution_count": null,
   "metadata": {},
   "outputs": [],
   "source": [
    "class Solution:\n",
    "    def setZeroes(self, matrix: List[List[int]]) -> None:\n",
    "        \"\"\"\n",
    "        Do not return anything, modify matrix in-place instead.\n",
    "        \"\"\"\n",
    "        row = len(matrix)\n",
    "        col = len(matrix[0])\n",
    "        row_zero = set()\n",
    "        col_zero = set()\n",
    "        for i in range(row):\n",
    "            for j in range(col):\n",
    "                if matrix[i][j] == 0:\n",
    "                    row_zero.add(i)\n",
    "                    col_zero.add(j)\n",
    "        for i in range(row):\n",
    "            for j in range(col):\n",
    "                if i in row_zero or j in col_zero:\n",
    "                    matrix[i][j] = 0"
   ]
  },
  {
   "cell_type": "markdown",
   "metadata": {},
   "source": [
    "思路二: 用O(1)O(1)空间\n",
    "关键思想: 用matrix第一行和第一列记录该行该列是否有0,作为标志位\n",
    "但是对于第一行,和第一列要设置一个标志位,为了防止自己这一行(一列)也有0的情况."
   ]
  },
  {
   "cell_type": "code",
   "execution_count": null,
   "metadata": {},
   "outputs": [],
   "source": [
    "class Solution:\n",
    "    def setZeroes(self, matrix: List[List[int]]) -> None:\n",
    "        \"\"\"\n",
    "        Do not return anything, modify matrix in-place instead.\n",
    "        \"\"\"\n",
    "        row = len(matrix)\n",
    "        col = len(matrix[0])\n",
    "        row0_flag = False\n",
    "        col0_flag = False\n",
    "        # 找第一行是否有0\n",
    "        for j in range(col):\n",
    "            if matrix[0][j] == 0:\n",
    "                row0_flag = True\n",
    "                break\n",
    "        # 第一列是否有0\n",
    "        for i in range(row):\n",
    "            if matrix[i][0] == 0:\n",
    "                col0_flag = True\n",
    "                break\n",
    "\n",
    "        # 把第一行或者第一列作为 标志位\n",
    "        for i in range(1, row):\n",
    "            for j in range(1, col):\n",
    "                if matrix[i][j] == 0:\n",
    "                    matrix[i][0] = matrix[0][j] = 0\n",
    "        #print(matrix)\n",
    "        # 置0\n",
    "        for i in range(1, row):\n",
    "            for j in range(1, col):\n",
    "                if matrix[i][0] == 0 or matrix[0][j] == 0:\n",
    "                    matrix[i][j] = 0\n",
    "\n",
    "        if row0_flag:\n",
    "            for j in range(col):\n",
    "                matrix[0][j] = 0\n",
    "        if col0_flag:\n",
    "            for i in range(row):\n",
    "                matrix[i][0] = 0"
   ]
  }
 ],
 "metadata": {
  "kernelspec": {
   "display_name": "Python 3",
   "language": "python",
   "name": "python3"
  },
  "language_info": {
   "codemirror_mode": {
    "name": "ipython",
    "version": 3
   },
   "file_extension": ".py",
   "mimetype": "text/x-python",
   "name": "python",
   "nbconvert_exporter": "python",
   "pygments_lexer": "ipython3",
   "version": "3.8.3"
  }
 },
 "nbformat": 4,
 "nbformat_minor": 4
}
