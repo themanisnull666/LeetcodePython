{
 "cells": [
  {
   "cell_type": "markdown",
   "metadata": {},
   "source": [
    "格雷编码是一个二进制数字系统，在该系统中，两个连续的数值仅有一个位数的差异。\n",
    "给定一个代表编码总位数的非负整数 n，打印其格雷编码序列。即使有多个不同答案，你也只需要返回其中一种。\n",
    "格雷编码序列必须以 0 开头。"
   ]
  },
  {
   "cell_type": "code",
   "execution_count": null,
   "metadata": {},
   "outputs": [],
   "source": [
    "class Solution:\n",
    "    def grayCode(self, n: int) -> List[int]:\n",
    "        if n==0:\n",
    "            return [0]\n",
    "\n",
    "        res=[]\n",
    "        def back(now,x):\n",
    "            if len(now)==n:\n",
    "                res.append(int(now,2))\n",
    "            elif x==0:\n",
    "                back(now+'0',0)\n",
    "                back(now+'1',1)\n",
    "            else:\n",
    "                back(now+'1',0)\n",
    "                back(now+'0',1)\n",
    "        \n",
    "        back('',0)\n",
    "        return res"
   ]
  }
 ],
 "metadata": {
  "kernelspec": {
   "display_name": "Python 3",
   "language": "python",
   "name": "python3"
  },
  "language_info": {
   "codemirror_mode": {
    "name": "ipython",
    "version": 3
   },
   "file_extension": ".py",
   "mimetype": "text/x-python",
   "name": "python",
   "nbconvert_exporter": "python",
   "pygments_lexer": "ipython3",
   "version": "3.8.3"
  }
 },
 "nbformat": 4,
 "nbformat_minor": 4
}
