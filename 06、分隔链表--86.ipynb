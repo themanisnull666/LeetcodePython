{
 "cells": [
  {
   "cell_type": "markdown",
   "metadata": {},
   "source": [
    "给定一个链表和一个特定值 x，对链表进行分隔，使得所有小于 x 的节点都在大于或等于 x 的节点之前。\n",
    "你应当保留两个分区中每个节点的初始相对位置。"
   ]
  },
  {
   "cell_type": "markdown",
   "metadata": {},
   "source": [
    "思路:\n",
    "用两个链表,一个链表放小于x的节点,一个链表放大于等于x的节点\n",
    "最后,拼接这两个链表."
   ]
  },
  {
   "cell_type": "code",
   "execution_count": null,
   "metadata": {},
   "outputs": [],
   "source": [
    "# Definition for singly-linked list.\n",
    "# class ListNode:\n",
    "#     def __init__(self, x):\n",
    "#         self.val = x\n",
    "#         self.next = None\n",
    "\n",
    "class Solution:\n",
    "    def partition(self, head: ListNode, x: int) -> ListNode:\n",
    "        dummy1 = ListNode(-1)\n",
    "        dummy2 = ListNode(-1)\n",
    "        p1 = dummy1\n",
    "        p2 = dummy2\n",
    "        while head:\n",
    "            if head.val < x:\n",
    "                p1.next = head\n",
    "                p1 = p1.next\n",
    "            else:\n",
    "                p2.next = head\n",
    "                p2 = p2.next\n",
    "            head = head.next\n",
    "        # print(listNodeToString(dummy1.next))\n",
    "        # print(listNodeToString(dummy2.next))\n",
    "        p1.next = dummy2.next\n",
    "        p2.next = None\n",
    "        return dummy1.next"
   ]
  }
 ],
 "metadata": {
  "kernelspec": {
   "display_name": "Python 3",
   "language": "python",
   "name": "python3"
  },
  "language_info": {
   "codemirror_mode": {
    "name": "ipython",
    "version": 3
   },
   "file_extension": ".py",
   "mimetype": "text/x-python",
   "name": "python",
   "nbconvert_exporter": "python",
   "pygments_lexer": "ipython3",
   "version": "3.8.3"
  }
 },
 "nbformat": 4,
 "nbformat_minor": 4
}
