{
 "cells": [
  {
   "cell_type": "markdown",
   "metadata": {},
   "source": [
    "以 Unix 风格给出一个文件的绝对路径，你需要简化它。或者换句话说，将其转换为规范路径。\n",
    "在 Unix 风格的文件系统中，一个点（.）表示当前目录本身；此外，两个点 （..） 表示将目录切换到上一级（指向父目录）；两者都可以是复杂相对路径的组成部分。更多信息请参阅：Linux / Unix中的绝对路径 vs 相对路径\n",
    "请注意，返回的规范路径必须始终以斜杠 / 开头，并且两个目录名之间必须只有一个斜杠 /。最后一个目录名（如果存在）不能以 / 结尾。此外，规范路径必须是表示绝对路径的最短字符串。"
   ]
  },
  {
   "cell_type": "markdown",
   "metadata": {},
   "source": [
    "#1、字符串操作+单调栈\n",
    "自定义规则会增加代码复杂度，如果使用字符串的split方法，可以大幅降低操作难度，以'/'为分隔符区分字符，然后逐步识别符号'..'与字母，'.'可以直接忽略，还需要注意空的情况。"
   ]
  },
  {
   "cell_type": "code",
   "execution_count": null,
   "metadata": {},
   "outputs": [],
   "source": [
    "class Solution:\n",
    "    def simplifyPath(self, path: str) -> str:\n",
    "        stack = []\n",
    "        path = path.split(\"/\")\n",
    "\n",
    "        for i in path:\n",
    "            if i == '..':\n",
    "                if stack:\n",
    "                    stack.pop()\n",
    "            elif i and i != '.': # i的作用是规避空字符串，因为可能原path存在'////'多个斜杠的情况，split后会产生大量空集\n",
    "                stack.append(i)\n",
    "        \n",
    "        return '/' + '/'.join(stack) # 本句为精髓，因为仅允许一个'/'进行分隔，且开头需要用一个'/'作为起点"
   ]
  }
 ],
 "metadata": {
  "kernelspec": {
   "display_name": "Python 3",
   "language": "python",
   "name": "python3"
  },
  "language_info": {
   "codemirror_mode": {
    "name": "ipython",
    "version": 3
   },
   "file_extension": ".py",
   "mimetype": "text/x-python",
   "name": "python",
   "nbconvert_exporter": "python",
   "pygments_lexer": "ipython3",
   "version": "3.8.3"
  }
 },
 "nbformat": 4,
 "nbformat_minor": 4
}
